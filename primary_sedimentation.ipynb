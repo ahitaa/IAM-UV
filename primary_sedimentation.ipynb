{
 "cells": [
  {
   "attachments": {},
   "cell_type": "markdown",
   "id": "6b48fd95",
   "metadata": {},
   "source": [
    "# Sedimentación\n",
    "\n",
    "<div>\n",
    "<img src=\"https://raw.githubusercontent.com/ahitaa/IAM-UV/main/Captura%20de%20pantalla%202023-08-29%20a%20las%2014.40.07.png\" width=\"150\"/>\n",
    "</div>\n",
    "\n",
    "\n",
    "$\\sum F = F_g - F_b - F_d$ (1)\n",
    "\n",
    "donde, \n",
    "    F_g es la fuerza de la gravedad\n",
    "    F_b es la fuerza de flotación (bouyancy)\n",
    "    F_d es la fuerza de rozamiento (drag)\n",
    "\n",
    "$F_g = ma = \\rho_pV_pg$ (2)\n",
    "\n",
    "$F_b = ma = \\rho_wV_pg$ (3)\n",
    "\n",
    "$F_d = C_d\\rho_wA_p\\frac{v_s^2}{2}$ (4)\n",
    "\n",
    "Si la partícula tiene una geometría esférica, su volumen y área proyectada se pueden obtener del siguiente modo:\n",
    "\n",
    "$V_p = \\frac{\\pi}{6}d_p^3$ (5)\n",
    "\n",
    "$A_p = \\frac{\\pi}{4}d_p^2$ (6)\n",
    "\n",
    "Si sustituimos las ecuaciones de la (2) a la (6) en la ecuación (1) podemos obtener la velocidad terminal de sedimentación:\n",
    "\n",
    "$v_s=\\sqrt{\\frac{4g(\\rho_p-\\rho_w)d_p}{3C_d\\rho_w}}$\n",
    "\n"
   ]
  },
  {
   "attachments": {},
   "cell_type": "markdown",
   "id": "1593af36",
   "metadata": {},
   "source": [
    "Ahora debemos definir el coeficiente de rozamiento $C_d$. La principal dificultad radica en que el $C_d$ depende las condiciones de flujo del medio, es decir, del valor del Reynolds. \n",
    "\n",
    "De modo que se puede obtener experimentalmente:\n",
    "\n",
    "<div>\n",
    "<img src=\"https://github.com/ahitaa/IAM-UV/blob/main/Captura%20de%20pantalla%202023-08-29%20a%20las%2014.47.05.png?raw=true\" width=\"500\"/>\n",
    "</div>"
   ]
  },
  {
   "cell_type": "markdown",
   "id": "b13ebe3b",
   "metadata": {},
   "source": [
    "## Ejercio: Cálculo de la velocidad terminal de sedimentación\n",
    "\n",
    "Obtener la velocidad terminal de sedimentación para la arena en una solución de agua a 10ºC para partículas de diámetros de 50 y 190 $\\mu m$ y densidad de 2650 $kg/m^3$"
   ]
  },
  {
   "cell_type": "markdown",
   "id": "5f62221a",
   "metadata": {},
   "source": [
    "Primeramente suponemos un régimen de flujo laminar, es decir, donde el Re < 2, de modo que la ecuación de la velocidad de sedimentación nos queda expresada del siguiente modo:\n",
    "\n",
    "$C_d=\\frac{24}{Re}$\n",
    "\n",
    "$Re=\\frac{\\rho_w v_s d_p}\\mu{}$\n",
    "\n",
    "$v_s=\\frac{g(\\rho_p-\\rho_w)d_p^2}{18\\mu}$"
   ]
  },
  {
   "cell_type": "code",
   "execution_count": 47,
   "id": "c058abe8",
   "metadata": {},
   "outputs": [],
   "source": [
    "import numpy as np\n",
    "import pandas as pd\n",
    "import matplotlib.pyplot as plt"
   ]
  },
  {
   "cell_type": "code",
   "execution_count": 7,
   "id": "5e4358bd",
   "metadata": {},
   "outputs": [
    {
     "name": "stdout",
     "output_type": "stream",
     "text": [
      "vs : 0.00172 m/s\n",
      "vs : 6.19 m/h\n"
     ]
    }
   ],
   "source": [
    "g = 9.81       # m/s^2 aceleración de la gravedad\n",
    "rho_w = 999.7  # densidad del agua kg/m3 a 10ºC \n",
    "mu = 1.307e-3  # Viscosidad del agua kg/m a 10ºC\n",
    "rho_p = 2650   # Densidad particula\n",
    "dp = 50e-6     # Diametro partícula 50um -> 50e-6 m\n",
    "vs = (g*(rho_p-rho_w)*np.power(dp,2))/(18*mu)\n",
    "print(f'vs : {vs:.5f} m/s')\n",
    "print(f'vs : {vs*3600:.2f} m/h')"
   ]
  },
  {
   "cell_type": "markdown",
   "id": "81ae0580",
   "metadata": {},
   "source": [
    "Ahora evaluamos si el Reynolds para esta velocidad de sedimentación cumple que Re < 2"
   ]
  },
  {
   "cell_type": "code",
   "execution_count": 8,
   "id": "8c18b581",
   "metadata": {},
   "outputs": [
    {
     "name": "stdout",
     "output_type": "stream",
     "text": [
      "Re = 0.07\n"
     ]
    }
   ],
   "source": [
    "Re=(rho_w*vs*dp)/mu\n",
    "print(f'Re = {Re:.2f}')"
   ]
  },
  {
   "cell_type": "markdown",
   "id": "13639ed8",
   "metadata": {},
   "source": [
    "Verificamos que el valor del Reynolds cumple con la suposición de flujo laminar Re < 0.2 de modo que es válido el valor obtenido de la velocidad de sedimentación.\n",
    "\n",
    "A continuación, realizamos el mismo procedimiento para la partícula de diámetro 190$\\mu m$."
   ]
  },
  {
   "cell_type": "code",
   "execution_count": 9,
   "id": "1199ff65",
   "metadata": {},
   "outputs": [
    {
     "name": "stdout",
     "output_type": "stream",
     "text": [
      "vs : 0.02484 m/s\n",
      "vs : 89.43 m/h\n",
      "Re = 3.61\n"
     ]
    }
   ],
   "source": [
    "dp = 190e-6     # Diametro partícula 190um -> 190e-6 m\n",
    "vs = (g*(rho_p-rho_w)*np.power(dp,2))/(18*mu)\n",
    "print(f'vs : {vs:.5f} m/s')\n",
    "print(f'vs : {vs*3600:.2f} m/h')\n",
    "Re=(rho_w*vs*dp)/mu\n",
    "print(f'Re = {Re:.2f}')"
   ]
  },
  {
   "cell_type": "markdown",
   "id": "c4397dba",
   "metadata": {},
   "source": [
    "Como la condición de flujo no se corresponde con régimen laminar (Re < 0.2), se debe utilizar otra ecuación empírica que represente el coeficiente de rozamiento $C_d$ en, por ejemplo, régimen transitorio: \n",
    "\n",
    "$C_d=\\frac{18.5}{Re^{0.6}}$\n",
    "\n",
    "que al sustituir en la vs nos queda la siguiente expresión para el régimen transitorio (2<Re<500):\n",
    "\n",
    "$v_s=\\left( \\frac{g(\\rho_p-\\rho_w)d_p^{1.6}}{13.9\\rho_w^{0.4}\\mu^{0.6}} \\right)^{1/1.4}$"
   ]
  },
  {
   "cell_type": "code",
   "execution_count": 10,
   "id": "e285a5f3",
   "metadata": {},
   "outputs": [
    {
     "name": "stdout",
     "output_type": "stream",
     "text": [
      "vs : 0.02071 m/s\n",
      "vs : 74.54 m/h\n",
      "Re = 3.01\n"
     ]
    }
   ],
   "source": [
    "vs = np.power(g*(rho_p-rho_w)*np.power(dp,1.6)/(13.9*np.power(rho_w,0.4)*np.power(mu,0.6)),1/1.4)\n",
    "print(f'vs : {vs:.5f} m/s')\n",
    "print(f'vs : {vs*3600:.2f} m/h')\n",
    "Re=(rho_w*vs*dp)/mu\n",
    "print(f'Re = {Re:.2f}')"
   ]
  },
  {
   "attachments": {},
   "cell_type": "markdown",
   "id": "44a4cc39",
   "metadata": {},
   "source": [
    "## Ejercio: Eficiencia eliminación partículas\n",
    "\n",
    "Calcular la eficiencia de eliminación de partículas en un estanque de sedimentación rectangular de 4.5 m de profundidad, 6 m de ancho y 35 m de largo, para procesar un caudal volumétrico de 525 $m^3/h$. Obtener los parámetros de diseño requeridos y graficar las concentraciones de partículas de entrada y salida del afluente y efluente como una función del tamaño de particular utilizando un histrograma. La caracterización de la corriente de entrada es la siguiente:\n",
    "<div>\n",
    "<img src=\"https://github.com/ahitaa/IAM-UV/blob/main/table.png?raw=true\" width=\"500\"/>\n",
    "</div>"
   ]
  },
  {
   "cell_type": "markdown",
   "id": "590879b8",
   "metadata": {},
   "source": [
    "Primeramente calculamos la velocidad crítica de sedimentación para las dimensiones del sedimentador:\n",
    "\n",
    "$v_c = \\frac{h_o}{\\tau}=\\frac{h_o·Q}{h_o·A}=\\frac{Q}{A}=v_{of}(\\frac{m^3}{m^2·h})$"
   ]
  },
  {
   "cell_type": "code",
   "execution_count": 11,
   "id": "d2a6b667",
   "metadata": {},
   "outputs": [
    {
     "name": "stdout",
     "output_type": "stream",
     "text": [
      " vof: 2.5 m/h\n"
     ]
    }
   ],
   "source": [
    "Q = 525    # m3/h\n",
    "W = 6      # m ancho\n",
    "L = 35     # m largo\n",
    "h_o = 4.5  # m profundidad\n",
    "A = W*L\n",
    "vc = Q/A\n",
    "print(f' vof: {vc:0.1f} m/h')"
   ]
  },
  {
   "cell_type": "code",
   "execution_count": 43,
   "id": "a970e8ee",
   "metadata": {},
   "outputs": [
    {
     "data": {
      "text/html": [
       "<div>\n",
       "<style scoped>\n",
       "    .dataframe tbody tr th:only-of-type {\n",
       "        vertical-align: middle;\n",
       "    }\n",
       "\n",
       "    .dataframe tbody tr th {\n",
       "        vertical-align: top;\n",
       "    }\n",
       "\n",
       "    .dataframe thead th {\n",
       "        text-align: right;\n",
       "    }\n",
       "</style>\n",
       "<table border=\"1\" class=\"dataframe\">\n",
       "  <thead>\n",
       "    <tr style=\"text-align: right;\">\n",
       "      <th></th>\n",
       "      <th>vs</th>\n",
       "      <th>n_part_in</th>\n",
       "    </tr>\n",
       "  </thead>\n",
       "  <tbody>\n",
       "    <tr>\n",
       "      <th>0</th>\n",
       "      <td>0.2</td>\n",
       "      <td>511</td>\n",
       "    </tr>\n",
       "    <tr>\n",
       "      <th>1</th>\n",
       "      <td>0.6</td>\n",
       "      <td>657</td>\n",
       "    </tr>\n",
       "    <tr>\n",
       "      <th>2</th>\n",
       "      <td>1.0</td>\n",
       "      <td>876</td>\n",
       "    </tr>\n",
       "    <tr>\n",
       "      <th>3</th>\n",
       "      <td>1.4</td>\n",
       "      <td>1168</td>\n",
       "    </tr>\n",
       "    <tr>\n",
       "      <th>4</th>\n",
       "      <td>1.8</td>\n",
       "      <td>1460</td>\n",
       "    </tr>\n",
       "    <tr>\n",
       "      <th>5</th>\n",
       "      <td>2.2</td>\n",
       "      <td>1314</td>\n",
       "    </tr>\n",
       "    <tr>\n",
       "      <th>6</th>\n",
       "      <td>2.6</td>\n",
       "      <td>657</td>\n",
       "    </tr>\n",
       "    <tr>\n",
       "      <th>7</th>\n",
       "      <td>3.0</td>\n",
       "      <td>438</td>\n",
       "    </tr>\n",
       "    <tr>\n",
       "      <th>8</th>\n",
       "      <td>3.4</td>\n",
       "      <td>292</td>\n",
       "    </tr>\n",
       "    <tr>\n",
       "      <th>9</th>\n",
       "      <td>3.8</td>\n",
       "      <td>292</td>\n",
       "    </tr>\n",
       "  </tbody>\n",
       "</table>\n",
       "</div>"
      ],
      "text/plain": [
       "    vs  n_part_in\n",
       "0  0.2        511\n",
       "1  0.6        657\n",
       "2  1.0        876\n",
       "3  1.4       1168\n",
       "4  1.8       1460\n",
       "5  2.2       1314\n",
       "6  2.6        657\n",
       "7  3.0        438\n",
       "8  3.4        292\n",
       "9  3.8        292"
      ]
     },
     "execution_count": 43,
     "metadata": {},
     "output_type": "execute_result"
    }
   ],
   "source": [
    "vs_particules = np.linspace(0, 4, 11, endpoint=True)\n",
    "n_particules_in = [511, 657, 876, 1168, 1460, 1314, 657, 438, 292, 292]\n",
    "vs_mean= np.linspace(0.2, 3.8, 10, endpoint=True)\n",
    "data = pd.DataFrame({'vs': vs_mean, 'n_part_in': n_particules_in})\n",
    "data"
   ]
  },
  {
   "cell_type": "code",
   "execution_count": 37,
   "id": "d832a4ac",
   "metadata": {},
   "outputs": [],
   "source": [
    "percentage_remove = [] \n",
    "for vs in vs_mean:\n",
    "    if vs<vc:\n",
    "        percentage_remove.append(vs/vc)\n",
    "    else:\n",
    "        percentage_remove.append(1)"
   ]
  },
  {
   "cell_type": "code",
   "execution_count": 98,
   "id": "d73a0810",
   "metadata": {},
   "outputs": [
    {
     "data": {
      "text/html": [
       "<div>\n",
       "<style scoped>\n",
       "    .dataframe tbody tr th:only-of-type {\n",
       "        vertical-align: middle;\n",
       "    }\n",
       "\n",
       "    .dataframe tbody tr th {\n",
       "        vertical-align: top;\n",
       "    }\n",
       "\n",
       "    .dataframe thead th {\n",
       "        text-align: right;\n",
       "    }\n",
       "</style>\n",
       "<table border=\"1\" class=\"dataframe\">\n",
       "  <thead>\n",
       "    <tr style=\"text-align: right;\">\n",
       "      <th></th>\n",
       "      <th>vs</th>\n",
       "      <th>n_part_in</th>\n",
       "      <th>percentage</th>\n",
       "      <th>n_part_out</th>\n",
       "      <th>label</th>\n",
       "    </tr>\n",
       "  </thead>\n",
       "  <tbody>\n",
       "    <tr>\n",
       "      <th>0</th>\n",
       "      <td>0.2</td>\n",
       "      <td>511</td>\n",
       "      <td>0.08</td>\n",
       "      <td>470</td>\n",
       "      <td>0.2</td>\n",
       "    </tr>\n",
       "    <tr>\n",
       "      <th>1</th>\n",
       "      <td>0.6</td>\n",
       "      <td>657</td>\n",
       "      <td>0.24</td>\n",
       "      <td>499</td>\n",
       "      <td>0.6</td>\n",
       "    </tr>\n",
       "    <tr>\n",
       "      <th>2</th>\n",
       "      <td>1.0</td>\n",
       "      <td>876</td>\n",
       "      <td>0.40</td>\n",
       "      <td>525</td>\n",
       "      <td>1.0</td>\n",
       "    </tr>\n",
       "    <tr>\n",
       "      <th>3</th>\n",
       "      <td>1.4</td>\n",
       "      <td>1168</td>\n",
       "      <td>0.56</td>\n",
       "      <td>513</td>\n",
       "      <td>1.4</td>\n",
       "    </tr>\n",
       "    <tr>\n",
       "      <th>4</th>\n",
       "      <td>1.8</td>\n",
       "      <td>1460</td>\n",
       "      <td>0.72</td>\n",
       "      <td>408</td>\n",
       "      <td>1.8</td>\n",
       "    </tr>\n",
       "    <tr>\n",
       "      <th>5</th>\n",
       "      <td>2.2</td>\n",
       "      <td>1314</td>\n",
       "      <td>0.88</td>\n",
       "      <td>157</td>\n",
       "      <td>2.2</td>\n",
       "    </tr>\n",
       "    <tr>\n",
       "      <th>6</th>\n",
       "      <td>2.6</td>\n",
       "      <td>657</td>\n",
       "      <td>1.00</td>\n",
       "      <td>0</td>\n",
       "      <td>2.6</td>\n",
       "    </tr>\n",
       "    <tr>\n",
       "      <th>7</th>\n",
       "      <td>3.0</td>\n",
       "      <td>438</td>\n",
       "      <td>1.00</td>\n",
       "      <td>0</td>\n",
       "      <td>3.0</td>\n",
       "    </tr>\n",
       "    <tr>\n",
       "      <th>8</th>\n",
       "      <td>3.4</td>\n",
       "      <td>292</td>\n",
       "      <td>1.00</td>\n",
       "      <td>0</td>\n",
       "      <td>3.4</td>\n",
       "    </tr>\n",
       "    <tr>\n",
       "      <th>9</th>\n",
       "      <td>3.8</td>\n",
       "      <td>292</td>\n",
       "      <td>1.00</td>\n",
       "      <td>0</td>\n",
       "      <td>3.8</td>\n",
       "    </tr>\n",
       "  </tbody>\n",
       "</table>\n",
       "</div>"
      ],
      "text/plain": [
       "    vs  n_part_in  percentage  n_part_out label\n",
       "0  0.2        511        0.08         470   0.2\n",
       "1  0.6        657        0.24         499   0.6\n",
       "2  1.0        876        0.40         525   1.0\n",
       "3  1.4       1168        0.56         513   1.4\n",
       "4  1.8       1460        0.72         408   1.8\n",
       "5  2.2       1314        0.88         157   2.2\n",
       "6  2.6        657        1.00           0   2.6\n",
       "7  3.0        438        1.00           0   3.0\n",
       "8  3.4        292        1.00           0   3.4\n",
       "9  3.8        292        1.00           0   3.8"
      ]
     },
     "execution_count": 98,
     "metadata": {},
     "output_type": "execute_result"
    }
   ],
   "source": [
    "data['percentage'] = percentage_remove\n",
    "data['n_part_out'] = data['n_part_in'] - data['percentage']*data['n_part_in']\n",
    "data['n_part_out'] = data['n_part_out'].astype(int)\n",
    "data"
   ]
  },
  {
   "cell_type": "code",
   "execution_count": 101,
   "id": "9bda9bc7",
   "metadata": {},
   "outputs": [
    {
     "data": {
      "image/png": "[encoded data removed]",
      "text/plain": [
       "<Figure size 640x480 with 1 Axes>"
      ]
     },
     "metadata": {},
     "output_type": "display_data"
    }
   ],
   "source": [
    "fig, ax = plt.subplots()\n",
    "bar1 = ax.bar(data['vs'],data['n_part_in'], label = 'Afluente')\n",
    "bar2 = ax.bar(data['vs'],data['n_part_out'], label = 'Efluente')\n",
    "ax.set_xticks(data['vs'])\n",
    "ax.legend()\n",
    "ax.set_ylabel('Concentración (#/mL)')\n",
    "ax.set_xlabel('Velocidad Sedimentación (m/h)')\n",
    "plt.show()"
   ]
  },
  {
   "cell_type": "code",
   "execution_count": null,
   "id": "aa01f7cf",
   "metadata": {},
   "outputs": [],
   "source": []
  }
 ],
 "metadata": {
  "kernelspec": {
   "display_name": "Python 3 (ipykernel)",
   "language": "python",
   "name": "python3"
  },
  "language_info": {
   "codemirror_mode": {
    "name": "ipython",
    "version": 3
   },
   "file_extension": ".py",
   "mimetype": "text/x-python",
   "name": "python",
   "nbconvert_exporter": "python",
   "pygments_lexer": "ipython3",
   "version": "3.9.13"
  }
 },
 "nbformat": 4,
 "nbformat_minor": 5
}
